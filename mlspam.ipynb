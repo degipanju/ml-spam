{
 "cells": [
  {
   "cell_type": "markdown",
   "metadata": {},
   "source": [
    "# Import necessary module"
   ]
  },
  {
   "cell_type": "code",
   "execution_count": 1,
   "metadata": {},
   "outputs": [],
   "source": [
    "import os\n",
    "import pandas as pd\n",
    "import numpy as np\n",
    "import tensorflow as tf\n",
    "import matplotlib.pyplot as plt\n",
    "from nltk.tokenize import word_tokenize\n",
    "from nltk.corpus import stopwords\n",
    "from nltk.stem import PorterStemmer\n",
    "from num2words import num2words\n",
    "from sklearn.feature_extraction.text import TfidfVectorizer\n",
    "from sklearn.metrics import confusion_matrix\n",
    "from sklearn.metrics import accuracy_score\n",
    "from sklearn.metrics import precision_score\n",
    "from sklearn.metrics import recall_score"
   ]
  },
  {
   "cell_type": "markdown",
   "metadata": {},
   "source": [
    "# Load dataset and do preprocessing"
   ]
  },
  {
   "cell_type": "code",
   "execution_count": 2,
   "metadata": {},
   "outputs": [
    {
     "name": "stdout",
     "output_type": "stream",
     "text": [
      "Dataframe:\n",
      "               file                                  preprocessed_text tfidf  \\\n",
      "0      3-1msg1.txt   deat sun dec est michael mmors yorku ca subje...    []   \n",
      "1      3-1msg2.txt   discuss np np remind ago read sourc forget cr...    []   \n",
      "2      3-1msg3.txt           much restrict np np np pro quit restrict    []   \n",
      "3    3-375msg1.txt   listserv intern confer second circular februa...    []   \n",
      "4    3-378msg1.txt   anyon point book articl caus construct korean...    []   \n",
      "..             ...                                                ...   ...   \n",
      "957   spmsgc95.txt   congratul select enter vacat adventur florida...    []   \n",
      "958   spmsgc96.txt   http capitalfm extravaganza keep date action ...    []   \n",
      "959   spmsgc97.txt   spam receiv messag member safemail list wish ...    []   \n",
      "960   spmsgc98.txt   spam receiv messag member safemail list wish ...    []   \n",
      "961   spmsgc99.txt   dear internet user dear internet user sound f...    []   \n",
      "\n",
      "     label  \n",
      "0      0.0  \n",
      "1      0.0  \n",
      "2      0.0  \n",
      "3      0.0  \n",
      "4      0.0  \n",
      "..     ...  \n",
      "957    1.0  \n",
      "958    1.0  \n",
      "959    1.0  \n",
      "960    1.0  \n",
      "961    1.0  \n",
      "\n",
      "[962 rows x 4 columns]\n"
     ]
    }
   ],
   "source": [
    "def convert_lower_case(data):\n",
    "    return np.char.lower(data)\n",
    "\n",
    "def remove_punctuation(data):\n",
    "    symbols = \"!\\\"#$%&()*+-.,/:;<=>?@[\\]^_`{|}~\\n\"\n",
    "    for i in range(len(symbols)):\n",
    "        data = np.char.replace(data, symbols[i], ' ')\n",
    "        data = np.char.replace(data, \"  \", \" \")\n",
    "    data = np.char.replace(data, \"'\", \"\")\n",
    "    return data\n",
    "\n",
    "def remove_non_alpha(data):\n",
    "    tokens = word_tokenize(str(data))\n",
    "    new_text = \"\"\n",
    "    for w in tokens:\n",
    "        if w.isalpha() == True:\n",
    "            new_text = new_text + \" \" + w\n",
    "    return new_text\n",
    "\n",
    "def remove_single_character(data):\n",
    "    tokens = word_tokenize(str(data))\n",
    "    new_text = \"\"\n",
    "    for w in tokens:\n",
    "        if len(w) > 1:\n",
    "            new_text = new_text + \" \" + w\n",
    "    return new_text\n",
    "\n",
    "def remove_stop_words(data):\n",
    "    stop_words = stopwords.words('english')\n",
    "    words = word_tokenize(str(data))\n",
    "    new_text = \"\"\n",
    "    for w in words:\n",
    "        if w not in stop_words and len(w) > 1:\n",
    "            new_text = new_text + \" \" + w\n",
    "    return new_text\n",
    "\n",
    "def remove_unused_words(data):\n",
    "    tokens = word_tokenize(str(data))\n",
    "    new_text = \"\"\n",
    "    for w in tokens:\n",
    "        if w not in ['www','com','edu']:\n",
    "            new_text = new_text + \" \" + w\n",
    "    return new_text\n",
    "\n",
    "def stemming(data):\n",
    "    stemmer= PorterStemmer()\n",
    "    tokens = word_tokenize(str(data))\n",
    "    new_text = \"\"\n",
    "    for w in tokens:\n",
    "        new_text = new_text + \" \" + stemmer.stem(w)\n",
    "    return new_text\n",
    "\n",
    "folder = 'E:\\\\S2\\\\Sistem Intelijen\\\\Tugas\\\\UAS\\\\dataset\\\\'\n",
    "df = pd.DataFrame({'file': [], 'preprocessed_text': [], 'tfidf': [], 'label': []})\n",
    "for r, d, f in os.walk(folder):\n",
    "    for file in f:\n",
    "        if '.txt' in file:\n",
    "            label = 0\n",
    "            if file[:5] == 'spmsg':\n",
    "                label = 1\n",
    "            dft = pd.DataFrame([[file,'',[],label]], columns = ['file','preprocessed_text','tfidf','label'])\n",
    "            df = df.append(dft)\n",
    "df.reset_index(drop=True,inplace=True)\n",
    "\n",
    "data = ''\n",
    "for index,col in df.iterrows():\n",
    "    with open(folder + col['file'], errors='ignore') as f:\n",
    "        for i,line in enumerate(f):\n",
    "            if i == 2:\n",
    "                data = convert_lower_case(line)\n",
    "                data = remove_punctuation(data)\n",
    "                data = remove_non_alpha(data)\n",
    "                data = remove_single_character(data)\n",
    "                data = remove_unused_words(data)\n",
    "                data = remove_stop_words(data)\n",
    "                data = stemming(data)\n",
    "                df.at[index, 'preprocessed_text'] = data\n",
    "\n",
    "print('Dataframe:\\n', df)"
   ]
  },
  {
   "cell_type": "markdown",
   "metadata": {},
   "source": [
    "# Create tf-idf score from the data"
   ]
  },
  {
   "cell_type": "code",
   "execution_count": 3,
   "metadata": {},
   "outputs": [
    {
     "name": "stdout",
     "output_type": "stream",
     "text": [
      "Feature/input ( 20  most common words from dataset ):\n",
      " ['address', 'email', 'free', 'http', 'inform', 'languag', 'linguist', 'list', 'mail', 'money', 'name', 'one', 'order', 'pleas', 'program', 'receiv', 'report', 'send', 'univers', 'work']\n",
      "\n",
      "Dataframe:\n",
      "               file                                  preprocessed_text  \\\n",
      "0      3-1msg1.txt   deat sun dec est michael mmors yorku ca subje...   \n",
      "1      3-1msg2.txt   discuss np np remind ago read sourc forget cr...   \n",
      "2      3-1msg3.txt           much restrict np np np pro quit restrict   \n",
      "3    3-375msg1.txt   listserv intern confer second circular februa...   \n",
      "4    3-378msg1.txt   anyon point book articl caus construct korean...   \n",
      "..             ...                                                ...   \n",
      "957   spmsgc95.txt   congratul select enter vacat adventur florida...   \n",
      "958   spmsgc96.txt   http capitalfm extravaganza keep date action ...   \n",
      "959   spmsgc97.txt   spam receiv messag member safemail list wish ...   \n",
      "960   spmsgc98.txt   spam receiv messag member safemail list wish ...   \n",
      "961   spmsgc99.txt   dear internet user dear internet user sound f...   \n",
      "\n",
      "                                                 tfidf  label  \n",
      "0    [0.0, 0.0, 0.0, 0.0, 0.0, 0.2404760114054036, ...    0.0  \n",
      "1    [0.0, 0.0, 0.0, 0.0, 0.0, 0.6155369739387899, ...    0.0  \n",
      "2    [0.0, 0.0, 0.0, 0.0, 0.0, 0.0, 0.0, 0.0, 0.0, ...    0.0  \n",
      "3    [0.10679674381404747, 0.0, 0.0, 0.0, 0.0, 0.48...    0.0  \n",
      "4    [0.0, 0.0, 0.0, 0.0, 0.0, 0.0, 0.0, 0.0, 0.553...    0.0  \n",
      "..                                                 ...    ...  \n",
      "957  [0.0, 0.0, 0.0, 0.30696180263616946, 0.0, 0.0,...    1.0  \n",
      "958  [0.0, 0.0, 0.26656240259145053, 0.859702737466...    1.0  \n",
      "959  [0.0, 0.49279103135418806, 0.0, 0.0, 0.3993869...    1.0  \n",
      "960  [0.0, 0.49279103135418806, 0.0, 0.0, 0.3993869...    1.0  \n",
      "961  [0.07332640741904208, 0.12765906483228023, 0.1...    1.0  \n",
      "\n",
      "[962 rows x 4 columns]\n"
     ]
    }
   ],
   "source": [
    "num_input = 20\n",
    "\n",
    "txt = []\n",
    "for index,col in df.iterrows():\n",
    "    txt.append(col['preprocessed_text'])\n",
    "\n",
    "tfidf = TfidfVectorizer(max_features=num_input)\n",
    "vector = tfidf.fit_transform(txt)\n",
    "vector_array = vector.toarray()\n",
    "\n",
    "for index,col in df.iterrows():\n",
    "    df.at[index, 'tfidf'] = vector_array[index]\n",
    "\n",
    "print('Feature/input (', num_input, ' most common words from dataset ):\\n', tfidf.get_feature_names())\n",
    "print('\\nDataframe:\\n', df)"
   ]
  },
  {
   "cell_type": "markdown",
   "metadata": {},
   "source": [
    "# Split train and test data"
   ]
  },
  {
   "cell_type": "code",
   "execution_count": 4,
   "metadata": {},
   "outputs": [
    {
     "name": "stdout",
     "output_type": "stream",
     "text": [
      "The number of total dataset : 962\n",
      "  The number of spam : 481\n",
      "  The number of ham  : 481\n",
      "The number of train dataset : 768\n",
      "  The number of spam : 384\n",
      "  The number of ham  : 384\n",
      "The number of test dataset : 194\n",
      "  The number of spam : 97\n",
      "  The number of ham  : 97\n"
     ]
    }
   ],
   "source": [
    "ham = df.query('label == 0')\n",
    "ham.reset_index(drop=True,inplace=True)\n",
    "spam = df.query('label == 1')\n",
    "spam.reset_index(drop=True,inplace=True)\n",
    "\n",
    "num_train = int(len(ham)*0.8)\n",
    "\n",
    "frames = [ham.iloc[:num_train],spam.iloc[:num_train]]\n",
    "train = pd.concat(frames)\n",
    "train.reset_index(drop=True,inplace=True)\n",
    "x_train = []\n",
    "y_train = []\n",
    "for index,col in train.iterrows():\n",
    "    x_train.append(col['tfidf'])\n",
    "    y_train.append(col['label'])\n",
    "x_train = np.array(x_train)\n",
    "y_train = np.array(y_train)\n",
    "\n",
    "frames = [ham.iloc[num_train:len(ham)],spam.iloc[num_train:len(ham)]]\n",
    "test = pd.concat(frames)\n",
    "test.reset_index(drop=True,inplace=True)\n",
    "x_test = []\n",
    "y_test = []\n",
    "for index,col in test.iterrows():\n",
    "    x_test.append(col['tfidf'])\n",
    "    y_test.append(col['label'])\n",
    "x_test = np.array(x_test)\n",
    "y_test = np.array(y_test)\n",
    "\n",
    "print('The number of total dataset : ' + str(len(df)))\n",
    "print('  The number of spam : ' + str(len(spam)))\n",
    "print('  The number of ham  : ' + str(len(ham)))\n",
    "print('The number of train dataset : ' + str(len(train)))\n",
    "print('  The number of spam : ' + str(train.query('label == 1').shape[0]))\n",
    "print('  The number of ham  : ' + str(train.query('label == 0').shape[0]))\n",
    "print('The number of test dataset : ' + str(len(test)))\n",
    "print('  The number of spam : ' + str(test.query('label == 1').shape[0]))\n",
    "print('  The number of ham  : ' + str(test.query('label == 0').shape[0]))"
   ]
  },
  {
   "cell_type": "markdown",
   "metadata": {},
   "source": [
    "# Build deep learning model"
   ]
  },
  {
   "cell_type": "code",
   "execution_count": 12,
   "metadata": {},
   "outputs": [
    {
     "name": "stdout",
     "output_type": "stream",
     "text": [
      "Model: \"sequential_1\"\n",
      "_________________________________________________________________\n",
      "Layer (type)                 Output Shape              Param #   \n",
      "=================================================================\n",
      "dense_3 (Dense)              (None, 64)                1344      \n",
      "_________________________________________________________________\n",
      "dense_4 (Dense)              (None, 64)                4160      \n",
      "_________________________________________________________________\n",
      "dense_5 (Dense)              (None, 1)                 65        \n",
      "=================================================================\n",
      "Total params: 5,569\n",
      "Trainable params: 5,569\n",
      "Non-trainable params: 0\n",
      "_________________________________________________________________\n",
      "None\n"
     ]
    }
   ],
   "source": [
    "model = tf.keras.Sequential([\n",
    "    tf.keras.layers.Dense(64, activation=tf.nn.relu, input_shape=(num_input,)),\n",
    "    tf.keras.layers.Dense(64, activation=tf.nn.relu),\n",
    "    tf.keras.layers.Dense(1, activation=tf.nn.sigmoid)\n",
    "])\n",
    "model.compile(optimizer='adam', loss='binary_crossentropy', metrics=['acc'])\n",
    "print(model.summary())"
   ]
  },
  {
   "cell_type": "markdown",
   "metadata": {},
   "source": [
    "# Train model"
   ]
  },
  {
   "cell_type": "code",
   "execution_count": 13,
   "metadata": {},
   "outputs": [
    {
     "name": "stdout",
     "output_type": "stream",
     "text": [
      "Train on 768 samples\n",
      "Epoch 1/30\n",
      "768/768 [==============================] - 1s 888us/sample - loss: 0.6038 - acc: 0.8112\n",
      "Epoch 2/30\n",
      "768/768 [==============================] - 0s 122us/sample - loss: 0.3488 - acc: 0.9128\n",
      "Epoch 3/30\n",
      "768/768 [==============================] - 0s 119us/sample - loss: 0.1983 - acc: 0.9388\n",
      "Epoch 4/30\n",
      "768/768 [==============================] - 0s 132us/sample - loss: 0.1641 - acc: 0.9427\n",
      "Epoch 5/30\n",
      "768/768 [==============================] - 0s 132us/sample - loss: 0.1489 - acc: 0.9440\n",
      "Epoch 6/30\n",
      "768/768 [==============================] - 0s 142us/sample - loss: 0.1409 - acc: 0.9466\n",
      "Epoch 7/30\n",
      "768/768 [==============================] - 0s 129us/sample - loss: 0.1350 - acc: 0.9505\n",
      "Epoch 8/30\n",
      "768/768 [==============================] - 0s 127us/sample - loss: 0.1306 - acc: 0.9466\n",
      "Epoch 9/30\n",
      "768/768 [==============================] - 0s 114us/sample - loss: 0.1242 - acc: 0.9531\n",
      "Epoch 10/30\n",
      "768/768 [==============================] - 0s 122us/sample - loss: 0.1206 - acc: 0.9570\n",
      "Epoch 11/30\n",
      "768/768 [==============================] - 0s 114us/sample - loss: 0.1167 - acc: 0.9557\n",
      "Epoch 12/30\n",
      "768/768 [==============================] - 0s 116us/sample - loss: 0.1130 - acc: 0.9583\n",
      "Epoch 13/30\n",
      "768/768 [==============================] - 0s 117us/sample - loss: 0.1103 - acc: 0.9583\n",
      "Epoch 14/30\n",
      "768/768 [==============================] - 0s 122us/sample - loss: 0.1082 - acc: 0.9583\n",
      "Epoch 15/30\n",
      "768/768 [==============================] - 0s 133us/sample - loss: 0.1058 - acc: 0.9622\n",
      "Epoch 16/30\n",
      "768/768 [==============================] - 0s 132us/sample - loss: 0.1012 - acc: 0.9648\n",
      "Epoch 17/30\n",
      "768/768 [==============================] - ETA: 0s - loss: 0.1009 - acc: 0.969 - 0s 105us/sample - loss: 0.0981 - acc: 0.9674\n",
      "Epoch 18/30\n",
      "768/768 [==============================] - 0s 131us/sample - loss: 0.0972 - acc: 0.9648\n",
      "Epoch 19/30\n",
      "768/768 [==============================] - 0s 130us/sample - loss: 0.0914 - acc: 0.9727\n",
      "Epoch 20/30\n",
      "768/768 [==============================] - 0s 131us/sample - loss: 0.0929 - acc: 0.9674\n",
      "Epoch 21/30\n",
      "768/768 [==============================] - 0s 130us/sample - loss: 0.0865 - acc: 0.9714\n",
      "Epoch 22/30\n",
      "768/768 [==============================] - 0s 134us/sample - loss: 0.0824 - acc: 0.9727\n",
      "Epoch 23/30\n",
      "768/768 [==============================] - 0s 137us/sample - loss: 0.0823 - acc: 0.9688\n",
      "Epoch 24/30\n",
      "768/768 [==============================] - 0s 138us/sample - loss: 0.0825 - acc: 0.9714\n",
      "Epoch 25/30\n",
      "768/768 [==============================] - 0s 139us/sample - loss: 0.0760 - acc: 0.9753\n",
      "Epoch 26/30\n",
      "768/768 [==============================] - 0s 122us/sample - loss: 0.0760 - acc: 0.9753\n",
      "Epoch 27/30\n",
      "768/768 [==============================] - 0s 123us/sample - loss: 0.0717 - acc: 0.9766\n",
      "Epoch 28/30\n",
      "768/768 [==============================] - 0s 119us/sample - loss: 0.0704 - acc: 0.9779\n",
      "Epoch 29/30\n",
      "768/768 [==============================] - 0s 126us/sample - loss: 0.0668 - acc: 0.9792\n",
      "Epoch 30/30\n",
      "768/768 [==============================] - 0s 119us/sample - loss: 0.0671 - acc: 0.9792\n"
     ]
    }
   ],
   "source": [
    "history = model.fit(x_train, y_train, epochs=30, batch_size=20).history"
   ]
  },
  {
   "cell_type": "code",
   "execution_count": 14,
   "metadata": {},
   "outputs": [
    {
     "data": {
      "image/png": "[encoded data removed]",
      "text/plain": [
       "<Figure size 432x288 with 2 Axes>"
      ]
     },
     "metadata": {
      "needs_background": "light"
     },
     "output_type": "display_data"
    }
   ],
   "source": [
    "plt.subplot(1, 2, 1)\n",
    "plt.plot(history['loss'])\n",
    "plt.title('Loss')\n",
    "plt.xlabel('epoch')\n",
    "plt.ylabel('loss')\n",
    "plt.subplot(1, 2, 2)\n",
    "plt.plot(history['acc'])\n",
    "plt.title('Accuracy')\n",
    "plt.xlabel('epoch')\n",
    "plt.ylabel('accuracy')\n",
    "plt.tight_layout()\n",
    "plt.show()"
   ]
  },
  {
   "cell_type": "markdown",
   "metadata": {},
   "source": [
    "# Test data and result"
   ]
  },
  {
   "cell_type": "code",
   "execution_count": 15,
   "metadata": {},
   "outputs": [
    {
     "data": {
      "image/png": "[encoded data removed]",
      "text/plain": [
       "<Figure size 432x288 with 2 Axes>"
      ]
     },
     "metadata": {
      "needs_background": "light"
     },
     "output_type": "display_data"
    },
    {
     "name": "stdout",
     "output_type": "stream",
     "text": [
      "Accuracy  = 0.9587628865979382\n",
      "Precision = 0.978494623655914\n",
      "Recall    = 0.9381443298969072\n"
     ]
    }
   ],
   "source": [
    "predictions = model.predict_classes(x_test)\n",
    "cm = confusion_matrix(y_test, predictions)\n",
    "plt.imshow(cm, cmap=plt.cm.Blues)\n",
    "plt.title('Confusion matrix')\n",
    "plt.colorbar()\n",
    "classes = ['Ham','Spam']\n",
    "tick_marks = np.arange(len(classes))\n",
    "plt.xticks(tick_marks, classes)\n",
    "plt.yticks(tick_marks, classes)\n",
    "plt.ylabel('True label')\n",
    "plt.xlabel('Predicted label')\n",
    "thresh = cm.max() / 2\n",
    "s = [['TN','FP'], ['FN','TP']]\n",
    "for i in range(2):\n",
    "    for j in range(2):\n",
    "        plt.text(j, i, str(s[i][j]) + \" = \" + str(cm[i][j]), horizontalalignment = \"center\",\n",
    "            color = \"white\" if cm[i,j] > thresh else \"black\")\n",
    "plt.show()\n",
    "\n",
    "acc = accuracy_score(y_test, predictions)\n",
    "print('Accuracy  =', acc)\n",
    "ps = precision_score(y_test, predictions)\n",
    "print('Precision =', ps)\n",
    "rs = recall_score(y_test, predictions)\n",
    "print('Recall    =', rs)"
   ]
  },
  {
   "cell_type": "code",
   "execution_count": null,
   "metadata": {},
   "outputs": [],
   "source": []
  }
 ],
 "metadata": {
  "kernelspec": {
   "display_name": "Python 3",
   "language": "python",
   "name": "python3"
  },
  "language_info": {
   "codemirror_mode": {
    "name": "ipython",
    "version": 3
   },
   "file_extension": ".py",
   "mimetype": "text/x-python",
   "name": "python",
   "nbconvert_exporter": "python",
   "pygments_lexer": "ipython3",
   "version": "3.7.6"
  }
 },
 "nbformat": 4,
 "nbformat_minor": 4
}
